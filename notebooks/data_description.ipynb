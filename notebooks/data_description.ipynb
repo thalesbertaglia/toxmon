{
 "cells": [
  {
   "cell_type": "markdown",
   "metadata": {},
   "source": [
    "# Basic data description and analysis\n",
    "\n",
    "New dataset (25/01/2024)"
   ]
  },
  {
   "cell_type": "code",
   "execution_count": 32,
   "metadata": {},
   "outputs": [
    {
     "name": "stdout",
     "output_type": "stream",
     "text": [
      "The autoreload extension is already loaded. To reload it, use:\n",
      "  %reload_ext autoreload\n"
     ]
    }
   ],
   "source": [
    "%load_ext autoreload\n",
    "%autoreload 2"
   ]
  },
  {
   "cell_type": "code",
   "execution_count": 33,
   "metadata": {},
   "outputs": [],
   "source": [
    "import sys\n",
    "\n",
    "sys.path.append(\"..\")\n",
    "\n",
    "from toxmon.utils import generate_latex_table, format_with_commas"
   ]
  },
  {
   "cell_type": "code",
   "execution_count": 34,
   "metadata": {},
   "outputs": [],
   "source": [
    "import pandas as pd\n",
    "\n",
    "df_channels = pd.read_pickle(\"../data/current_data/df_channels.pkl\")\n",
    "df_videos = pd.read_pickle(\"../data/current_data/df_videos.pkl\")\n",
    "channel_list = pd.read_json(\"../data/channels_list.json\")"
   ]
  },
  {
   "cell_type": "code",
   "execution_count": 35,
   "metadata": {},
   "outputs": [],
   "source": [
    "df_channels[\"category\"] = df_channels[\"title\"].map(\n",
    "    channel_list.set_index(\"name\")[\"drama_category\"].to_dict()\n",
    ")"
   ]
  },
  {
   "cell_type": "code",
   "execution_count": 40,
   "metadata": {},
   "outputs": [],
   "source": [
    "channel_desc = df_channels[\n",
    "    [\"title\", \"category\", \"view_count\", \"sub_count\", \"video_count\"]\n",
    "].copy()\n",
    "\n",
    "columns_rename_map = {\n",
    "    \"title\": \"Channel\",\n",
    "    \"category\": \"Category\",\n",
    "    \"view_count\": \"\\# Views\",\n",
    "    \"sub_count\": \"\\# Subscribers\",\n",
    "    \"video_count\": \"\\# Videos\",\n",
    "    # \"reddit_videos\": \"\\# Videos with Reddit Threads\",\n",
    "}\n",
    "\n",
    "index_rename_map = {\"title\": \"Channel\"}\n",
    "\n",
    "# Apply formatting to numeric columns\n",
    "numeric_columns = [\"view_count\", \"sub_count\", \"video_count\"]\n",
    "channel_desc = channel_desc.astype({col: int for col in numeric_columns})\n",
    "channel_desc_table = channel_desc.sort_values(\"sub_count\", ascending=False)\n",
    "channel_desc_table[numeric_columns] = channel_desc_table[numeric_columns].applymap(\n",
    "    format_with_commas\n",
    ")\n",
    "\n",
    "generate_latex_table(\n",
    "    channel_desc_table,\n",
    "    \"Top 10 YouTube Channels with Reddit Threads\",\n",
    "    \"tab:top_10_channels\",\n",
    "    columns_rename_map=columns_rename_map,\n",
    ")"
   ]
  },
  {
   "cell_type": "code",
   "execution_count": null,
   "metadata": {},
   "outputs": [],
   "source": [
    "\\begin{table}\n",
    "\\centering\n",
    "\\caption{Top 10 YouTube Channels with Reddit Threads}\n",
    "\\label{tab:top_10_channels}\n",
    "\\begin{tabular}{lccccc}\n",
    "\\toprule\n",
    "\\bfseries Channel & \\bfseries Category & \\bfseries \\# Views & \\bfseries \\# Subscribers & \\# Videos \\\\\n",
    "\\midrule\n",
    "SSSniperWolf & Spike & 24,182,326,701 & 34,100,000 & 3,452 \\\\\n",
    "James Charles & Popular & 4,213,732,824 & 23,900,000 & 538 \\\\\n",
    "Logan Paul & Popular & 5,997,708,386 & 23,600,000 & 716 \\\\\n",
    "Jake Paul & Popular & 7,438,794,846 & 20,500,000 & 1,148 \\\\\n",
    "JennaMarbles & Popular & 1,816,664,262 & 19,700,000 & 250 \\\\\n",
    "shane & Popular & 4,346,185,264 & 19,100,000 & 571 \\\\\n",
    "David Dobrik & Popular & 7,208,182,928 & 17,700,000 & 536 \\\\\n",
    "jeffreestar & Popular & 2,585,316,202 & 15,800,000 & 433 \\\\\n",
    "Colleen Ballinger & Spike & 1,918,346,683 & 8,410,000 & 1,091 \\\\\n",
    "The Gabbie Show & Popular & 134,197,836 & 5,150,000 & 46 \\\\\n",
    "blndsundoll4mj & Popular & 953,678,678 & 5,100,000 & 2,259 \\\\\n",
    "boogie2988 & Spike & 928,068,656 & 4,020,000 & 2,339 \\\\\n",
    "Nikocado Avocado & Popular & 778,692,146 & 3,730,000 & 706 \\\\\n",
    "The Completionist & Spike & 335,850,138 & 1,620,000 & 699 \\\\\n",
    "iilluminaughtii & Spike & 254,152,195 & 1,310,000 & 633 \\\\\n",
    "JessiSmiles & Spike & 107,469,141 & 995,000 & 189 \\\\\n",
    "Yumi King & Spike & 147,378,377 & 851,000 & 1,087 \\\\\n",
    "nickisnotgreen & Spike & 48,417,915 & 690,000 & 128 \\\\\n",
    "Life Plus Cindy & Spike & 3,763,757 & 23,600 & 226 \\\\\n",
    "lil lunchbox & Spike & 1,072,254 & 6,840 & 308 \\\\\n",
    "\\bottomrule\n",
    "\\end{tabular}\n",
    "\\end{table}\n"
   ]
  },
  {
   "cell_type": "code",
   "execution_count": null,
   "metadata": {},
   "outputs": [],
   "source": []
  }
 ],
 "metadata": {
  "kernelspec": {
   "display_name": ".venv",
   "language": "python",
   "name": "python3"
  },
  "language_info": {
   "codemirror_mode": {
    "name": "ipython",
    "version": 3
   },
   "file_extension": ".py",
   "mimetype": "text/x-python",
   "name": "python",
   "nbconvert_exporter": "python",
   "pygments_lexer": "ipython3",
   "version": "3.9.0"
  }
 },
 "nbformat": 4,
 "nbformat_minor": 2
}
