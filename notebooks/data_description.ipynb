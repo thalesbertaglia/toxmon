{
 "cells": [
  {
   "cell_type": "markdown",
   "metadata": {},
   "source": [
    "# Basic data description and analysis\n",
    "\n",
    "New dataset (25/01/2024)"
   ]
  },
  {
   "cell_type": "code",
   "execution_count": 1,
   "metadata": {},
   "outputs": [],
   "source": [
    "%load_ext autoreload\n",
    "%autoreload 2"
   ]
  },
  {
   "cell_type": "code",
   "execution_count": 2,
   "metadata": {},
   "outputs": [],
   "source": [
    "import sys\n",
    "\n",
    "sys.path.append(\"..\")\n",
    "\n",
    "from toxmon.utils import generate_latex_table, format_with_commas"
   ]
  },
  {
   "cell_type": "code",
   "execution_count": 3,
   "metadata": {},
   "outputs": [],
   "source": [
    "import pandas as pd\n",
    "\n",
    "df_channels = pd.read_pickle(\"../data/current_data/df_channels.pkl\")\n",
    "df_videos = pd.read_pickle(\"../data/current_data/df_videos.pkl\")\n",
    "channel_list = pd.read_json(\"../data/channels_list.json\")"
   ]
  },
  {
   "cell_type": "code",
   "execution_count": 4,
   "metadata": {},
   "outputs": [],
   "source": [
    "df_channels[\"category\"] = df_channels[\"title\"].map(\n",
    "    channel_list.set_index(\"name\")[\"drama_category\"].to_dict()\n",
    ")\n",
    "\n",
    "df_channels[\"published_at\"] = pd.to_datetime(df_channels[\"published_at\"], format=\"mixed\", utc=True)"
   ]
  },
  {
   "cell_type": "markdown",
   "metadata": {},
   "source": [
    "### tab:channels_desc"
   ]
  },
  {
   "cell_type": "code",
   "execution_count": 5,
   "metadata": {},
   "outputs": [],
   "source": [
    "df_channels[\"age\"] = (pd.Timestamp.now(tz=\"UTC\") - df_channels[\"published_at\"]).dt.days / 365.25\n",
    "\n",
    "channel_desc = df_channels[\n",
    "    [\"title\", \"category\", \"view_count\", \"sub_count\", \"video_count\", \"age\"]\n",
    "].copy()\n",
    "\n",
    "columns_rename_map = {\n",
    "    \"title\": \"Channel\",\n",
    "    \"category\": \"Category\",\n",
    "    \"view_count\": \"\\# Views\",\n",
    "    \"sub_count\": \"\\# Subscribers\",\n",
    "    \"video_count\": \"\\# Videos\",\n",
    "    \"age\": \"Age (years)\",\n",
    "    # \"reddit_videos\": \"\\# Videos with Reddit Threads\",\n",
    "}\n",
    "\n",
    "index_rename_map = {\"title\": \"Channel\"}\n",
    "\n",
    "# Apply formatting to numeric columns\n",
    "numeric_columns = [\"view_count\", \"sub_count\", \"video_count\"]\n",
    "channel_desc = channel_desc.astype({col: int for col in numeric_columns})\n",
    "channel_desc_table = channel_desc.sort_values(\"sub_count\", ascending=False)\n",
    "channel_desc_table[numeric_columns] = channel_desc_table[numeric_columns].applymap(\n",
    "    format_with_commas\n",
    ")\n",
    "\n",
    "CHANNEL_ORDER = channel_desc_table[\"title\"].tolist()\n",
    "\n",
    "generate_latex_table(\n",
    "    channel_desc_table,\n",
    "    \"Descriptive statistics of the channels in the dataset.\",\n",
    "    \"tab:channels_desc\",\n",
    "    columns_rename_map=columns_rename_map,\n",
    ")"
   ]
  },
  {
   "cell_type": "code",
   "execution_count": null,
   "metadata": {},
   "outputs": [],
   "source": [
    "\\begin{table}\n",
    "\\centering\n",
    "\\caption{Descriptive statistics of the channels in the dataset.}\n",
    "\\label{tab:channels_desc}\n",
    "\\begin{tabular}{lcccccc}\n",
    "\\toprule\n",
    "\\bfseries Channel & \\bfseries Category & \\bfseries \\# Views & \\bfseries \\# Subscribers & \\bfseries \\# Videos & Age (years) \\\\\n",
    "\\midrule\n",
    "SSSniperWolf & Spike & 24,182,326,701 & 34,100,000 & 3,452 & 11.03 \\\\\n",
    "James Charles & Popular & 4,213,732,824 & 23,900,000 & 538 & 8.16 \\\\\n",
    "Logan Paul & Popular & 5,997,708,386 & 23,600,000 & 716 & 8.42 \\\\\n",
    "Jake Paul & Popular & 7,438,794,846 & 20,500,000 & 1,148 & 10.36 \\\\\n",
    "JennaMarbles & Popular & 1,816,664,262 & 19,700,000 & 250 & 13.95 \\\\\n",
    "shane & Popular & 4,346,185,264 & 19,100,000 & 571 & 18.36 \\\\\n",
    "David Dobrik & Popular & 7,208,182,928 & 17,700,000 & 536 & 9.11 \\\\\n",
    "jeffreestar & Popular & 2,585,316,202 & 15,800,000 & 433 & 17.96 \\\\\n",
    "Colleen Ballinger & Spike & 1,918,346,683 & 8,410,000 & 1,091 & 17.50 \\\\\n",
    "The Gabbie Show & Popular & 134,197,836 & 5,150,000 & 46 & 9.97 \\\\\n",
    "blndsundoll4mj & Popular & 953,678,678 & 5,100,000 & 2,259 & 17.07 \\\\\n",
    "boogie2988 & Spike & 928,068,656 & 4,020,000 & 2,339 & 17.82 \\\\\n",
    "Nikocado Avocado & Popular & 778,692,146 & 3,730,000 & 706 & 9.68 \\\\\n",
    "The Completionist & Spike & 335,850,138 & 1,620,000 & 699 & 12.07 \\\\\n",
    "iilluminaughtii & Spike & 254,152,195 & 1,310,000 & 633 & 10.73 \\\\\n",
    "JessiSmiles & Spike & 107,469,141 & 995,000 & 189 & 10.52 \\\\\n",
    "Yumi King & Spike & 147,378,377 & 851,000 & 1,087 & 10.77 \\\\\n",
    "nickisnotgreen & Spike & 48,417,915 & 690,000 & 128 & 7.33 \\\\\n",
    "Life Plus Cindy & Spike & 3,763,757 & 23,600 & 226 & 2.82 \\\\\n",
    "lil lunchbox & Spike & 1,072,254 & 6,840 & 308 & 6.92 \\\\\n",
    "\\bottomrule\n",
    "\\end{tabular}\n",
    "\\end{table}\n"
   ]
  },
  {
   "cell_type": "markdown",
   "metadata": {},
   "source": [
    "### tab:videos_stats"
   ]
  },
  {
   "cell_type": "code",
   "execution_count": 13,
   "metadata": {},
   "outputs": [],
   "source": [
    "def format_mean_std(row):\n",
    "    \"\"\"\n",
    "    Format the row to 'mean ± std' format for each numeric column.\n",
    "    \"\"\"\n",
    "    # return f\"{row['mean']:.2f} \\pm {row['std']:.2f}\"\n",
    "    # return f\"{format_with_commas(row['mean'])} $\\pm$ {format_with_commas(row['std'])}\"\n",
    "    return f\"{format_with_commas(row['mean']/1000)}k $\\pm$ {format_with_commas(row['std']/1000)}k\"\n",
    "\n",
    "\n",
    "numeric_columns = [\"view_count\", \"like_count\", \"comment_count\"]\n",
    "\n",
    "# Drop rows with missing values in numeric columns\n",
    "df_videos.dropna(subset=numeric_columns, inplace=True)\n",
    "\n",
    "# Convert columns to integer type\n",
    "df_videos = df_videos.astype({col: int for col in numeric_columns})\n",
    "\n",
    "# Group by \"channel\" and calculate mean and standard deviation\n",
    "channel_stats = df_videos.groupby(\"channel\")[numeric_columns].agg([\"mean\", \"std\"])\n",
    "\n",
    "# Reindex the result with your custom order\n",
    "channel_stats = channel_stats.reindex(CHANNEL_ORDER)\n",
    "\n",
    "\n",
    "# Apply the formatting function to each numeric column\n",
    "for col in numeric_columns:\n",
    "    channel_stats[col, \"mean_std\"] = channel_stats[col].apply(format_mean_std, axis=1)\n",
    "\n",
    "# Drop the original mean and std columns\n",
    "channel_stats = channel_stats.drop(\n",
    "    columns=[(col, metric) for col in numeric_columns for metric in [\"mean\", \"std\"]]\n",
    ")\n",
    "\n",
    "# Flatten the MultiIndex if present (e.g., after groupby and aggregation)\n",
    "channel_stats.columns = [\n",
    "    \"_\".join(col).strip() if isinstance(col, tuple) else col\n",
    "    for col in channel_stats.columns\n",
    "]\n",
    "\n",
    "generate_latex_table(\n",
    "    channel_stats.reset_index(),\n",
    "    \"Statistical summary of view, like, and comment counts for each channel: presented as mean and standard deviation values.\",\n",
    "    \"tab:videos_stats\",\n",
    ")"
   ]
  },
  {
   "cell_type": "code",
   "execution_count": null,
   "metadata": {},
   "outputs": [],
   "source": [
    "\\begin{table}\n",
    "\\centering\n",
    "\\caption{Statistical summary of view, like, and comment counts for each channel: presented as mean and standard deviation values.}\n",
    "\\label{tab:videos_stats}\n",
    "\\begin{tabular}{lcccc}\n",
    "\\toprule\n",
    "\\bfseries channel & \\bfseries view_count_mean_std & \\bfseries like_count_mean_std & comment_count_mean_std \\\\\n",
    "\\midrule\n",
    "SSSniperWolf & 7,045.06k $\\pm$ 8,112.70k & 147.05k $\\pm$ 162.36k & 10.18k $\\pm$ 14.70k \\\\\n",
    "James Charles & 7,764.84k $\\pm$ 8,547.91k & 327.99k $\\pm$ 366.15k & 23.52k $\\pm$ 48.72k \\\\\n",
    "Logan Paul & 8,405.08k $\\pm$ 13,477.09k & 310.24k $\\pm$ 287.94k & 30.06k $\\pm$ 72.57k \\\\\n",
    "Jake Paul & 6,518.39k $\\pm$ 12,409.05k & 151.57k $\\pm$ 183.78k & 20.39k $\\pm$ 43.64k \\\\\n",
    "JennaMarbles & 7,249.94k $\\pm$ 5,517.20k & 267.22k $\\pm$ 119.54k & 18.88k $\\pm$ 12.68k \\\\\n",
    "shane & 7,573.17k $\\pm$ 7,121.58k & 282.71k $\\pm$ 285.67k & 31.35k $\\pm$ 39.22k \\\\\n",
    "David Dobrik & 13,457.43k $\\pm$ 6,709.35k & 407.11k $\\pm$ 248.70k & 8.74k $\\pm$ 12.21k \\\\\n",
    "jeffreestar & 5,928.46k $\\pm$ 5,956.43k & 197.84k $\\pm$ 213.76k & 28.15k $\\pm$ 63.34k \\\\\n",
    "Colleen Ballinger & 1,766.73k $\\pm$ 2,903.07k & 54.68k $\\pm$ 82.51k & 5.08k $\\pm$ 10.79k \\\\\n",
    "The Gabbie Show & 2,936.00k $\\pm$ 4,295.07k & 121.66k $\\pm$ 170.94k & 18.99k $\\pm$ 28.27k \\\\\n",
    "blndsundoll4mj & 434.96k $\\pm$ 874.98k & 9.26k $\\pm$ 16.00k & 1.76k $\\pm$ 2.94k \\\\\n",
    "boogie2988 & 396.99k $\\pm$ 1,323.02k & 12.43k $\\pm$ 23.26k & 2.15k $\\pm$ 4.17k \\\\\n",
    "Nikocado Avocado & 1,102.42k $\\pm$ 1,825.45k & 14.95k $\\pm$ 21.43k & 4.65k $\\pm$ 8.46k \\\\\n",
    "The Completionist & 480.45k $\\pm$ 690.61k & 13.47k $\\pm$ 11.72k & 1.54k $\\pm$ 1.39k \\\\\n",
    "iilluminaughtii & 401.53k $\\pm$ 441.08k & 16.60k $\\pm$ 17.74k & 2.05k $\\pm$ 2.72k \\\\\n",
    "JessiSmiles & 566.23k $\\pm$ 734.84k & 24.55k $\\pm$ 33.69k & 1.99k $\\pm$ 3.16k \\\\\n",
    "Yumi King & 141.51k $\\pm$ 462.06k & 2.94k $\\pm$ 5.15k & 0.17k $\\pm$ 0.23k \\\\\n",
    "nickisnotgreen & 380.25k $\\pm$ 450.64k & 24.23k $\\pm$ 25.11k & 1.53k $\\pm$ 2.26k \\\\\n",
    "Life Plus Cindy & 16.66k $\\pm$ 14.52k & 1.30k $\\pm$ 0.93k & 0.31k $\\pm$ 0.39k \\\\\n",
    "lil lunchbox & 3.48k $\\pm$ 5.98k & 0.05k $\\pm$ 0.05k & 0.05k $\\pm$ 0.05k \\\\\n",
    "\\bottomrule\n",
    "\\end{tabular}\n",
    "\\end{table}\n"
   ]
  },
  {
   "cell_type": "code",
   "execution_count": null,
   "metadata": {},
   "outputs": [],
   "source": []
  }
 ],
 "metadata": {
  "kernelspec": {
   "display_name": ".venv",
   "language": "python",
   "name": "python3"
  },
  "language_info": {
   "codemirror_mode": {
    "name": "ipython",
    "version": 3
   },
   "file_extension": ".py",
   "mimetype": "text/x-python",
   "name": "python",
   "nbconvert_exporter": "python",
   "pygments_lexer": "ipython3",
   "version": "3.9.0"
  }
 },
 "nbformat": 4,
 "nbformat_minor": 2
}
